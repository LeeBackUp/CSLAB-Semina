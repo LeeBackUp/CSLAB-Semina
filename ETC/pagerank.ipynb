{
    "cells": [
        {
            "cell_type": "code",
            "execution_count": 1,
            "source": [
                "class Node:\r\n",
                "    def __init__(self, name):\r\n",
                "        self.name = name\r\n",
                "        self.children = []\r\n",
                "        self.parents = []\r\n",
                "        self.auth = 1.0\r\n",
                "        self.hub = 1.0\r\n",
                "        self.pagerank = 1.0"
            ],
            "outputs": [],
            "metadata": {}
        },
        {
            "cell_type": "code",
            "execution_count": 2,
            "source": [
                "def PageRank_one_iter(graph, d):\r\n",
                "    node_list = graph.nodes\r\n",
                "    for node in node_list:\r\n",
                "        node.update_pagerank(d, len(graph.nodes))"
            ],
            "outputs": [],
            "metadata": {}
        },
        {
            "cell_type": "code",
            "execution_count": 3,
            "source": [
                "def update_pagerank(self, d, n):\r\n",
                "  in_neighbors = self.parents\r\n",
                "  pagerank_sum = sum((node.pagerank / len(node.children)) for node in in_neighbors)\r\n",
                "  random_walk = d / n\r\n",
                "  self.pagerank = random_walk + (1-d) * pagerank_sum"
            ],
            "outputs": [],
            "metadata": {}
        }
    ],
    "metadata": {
        "orig_nbformat": 4,
        "language_info": {
            "name": "python",
            "version": "3.9.6",
            "mimetype": "text/x-python",
            "codemirror_mode": {
                "name": "ipython",
                "version": 3
            },
            "pygments_lexer": "ipython3",
            "nbconvert_exporter": "python",
            "file_extension": ".py"
        },
        "kernelspec": {
            "name": "python3",
            "display_name": "Python 3.9.6 64-bit"
        },
        "interpreter": {
            "hash": "d54bb5494ef5283f3bb9da334a12126f2e168d7022622466af04c6570fd1119d"
        }
    },
    "nbformat": 4,
    "nbformat_minor": 2
}