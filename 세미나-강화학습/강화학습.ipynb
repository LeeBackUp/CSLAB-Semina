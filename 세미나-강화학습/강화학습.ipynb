{
 "cells": [
  {
   "cell_type": "markdown",
   "metadata": {},
   "source": [
    "가치 반복법 구현"
   ]
  },
  {
   "cell_type": "code",
   "execution_count": 8,
   "metadata": {
    "ExecuteTime": {
     "end_time": "2021-12-13T20:04:34.605939Z",
     "start_time": "2021-12-13T20:04:34.603604Z"
    }
   },
   "outputs": [],
   "source": [
    "import numpy as np"
   ]
  },
  {
   "cell_type": "code",
   "execution_count": 9,
   "metadata": {
    "ExecuteTime": {
     "end_time": "2021-12-16T11:45:11.290648Z",
     "start_time": "2021-12-16T11:45:11.287987Z"
    }
   },
   "outputs": [],
   "source": [
    "ACTIONS = ('U','D','L','R')  # 격자 세계에서 할 수 있는 행동 선언\n",
    "DELTA_THRESHOLD = 1e-3\n",
    "GAMMA = 0.9 # 할인율"
   ]
  },
  {
   "cell_type": "code",
   "execution_count": 10,
   "metadata": {
    "ExecuteTime": {
     "end_time": "2021-12-13T20:05:57.300497Z",
     "start_time": "2021-12-13T20:05:57.290869Z"
    }
   },
   "outputs": [],
   "source": [
    "# 격자 공간의 클래스를 정의\n",
    "class Grid:\n",
    "    def __init__(self, rows, cols, start):\n",
    "        self.rows = rows # 격자 세계의 가로\n",
    "        self.cols = cols # 격자 세계의 세로\n",
    "        self.i = start[0] # 시작 좌표의 x\n",
    "        self.j = start[1] # 시작 좌표의 y\n",
    "        \n",
    "    def set(self, rewards, actions): # 보상, 행동 생성자\n",
    "        self.rewards = rewards # 보상 생성\n",
    "        self.actions = actions # 행동 생성\n",
    "    \n",
    "    def set_state(self, s):\n",
    "        self.i = s[0]\n",
    "        self.j = s[1]\n",
    "        \n",
    "    def current_state(self):\n",
    "        return (self.i , self.j)\n",
    "\n",
    "    def is_terminal(self, s):\n",
    "        return (s not in self.actions)\n",
    "    \n",
    "    def move(self, action):\n",
    "        if action in self.actions[(self.i , self.j)]:\n",
    "            if action == 'U':\n",
    "                self.i -= 1\n",
    "            elif action == 'D':\n",
    "                self.i += 1\n",
    "            elif action == 'R':\n",
    "                self.j += 1\n",
    "            elif action == 'L':\n",
    "                self.j -= 1\n",
    "        \n",
    "        return self.rewards.get((self.i , self.j), 0)\n",
    "    \n",
    "    def all_states(self):\n",
    "        return (set(self.actions.keys()) | set(self.rewards.keys())) # 확실히 모르겠음"
   ]
  },
  {
   "cell_type": "code",
   "execution_count": 11,
   "metadata": {
    "ExecuteTime": {
     "end_time": "2021-12-13T20:04:34.628476Z",
     "start_time": "2021-12-13T20:04:34.623884Z"
    }
   },
   "outputs": [],
   "source": [
    "# 격자 공간과 각 상태에서 선택 가능한 행동을 정의\n",
    "def standard_grid():\n",
    "    grid = Grid(3,4,(2,0)) # Grid 객체 매개변수 : 가로, 세로, 시작 좌표\n",
    "    rewards = {(0,3): 1, (1,3): -1} # 가치 선언, 0인 가치는 작성하지 않음\n",
    "    actions = {\n",
    "        (0,0) : ('D','R'),\n",
    "        (0,1) : ('L','R'),\n",
    "        (0,2) : ('L','D','R'),\n",
    "        (1,0) : ('U','D'),\n",
    "        # (1,1) 을 없는 공간이므로 선언하지 않음\n",
    "        (1,2) : ('U','D','R'),\n",
    "        (2,0) : ('U','R'),\n",
    "        (2,1) : ('L','R'),\n",
    "        (2,2) : ('L','R','U'),\n",
    "        (2,3) : ('L','U'),\n",
    "    } # 행동 선언\n",
    "    grid.set(rewards, actions) # 보상, 행동 생성자\n",
    "    return grid # 생성한 그리드 객체 반환"
   ]
  },
  {
   "cell_type": "code",
   "execution_count": 12,
   "metadata": {
    "ExecuteTime": {
     "end_time": "2021-12-13T20:04:34.634137Z",
     "start_time": "2021-12-13T20:04:34.629256Z"
    }
   },
   "outputs": [],
   "source": [
    "def print_values(V, grid): # 초기 보상 출력 함수\n",
    "    for i in range(grid.rows): # 가로 반복\n",
    "        print(\"-------------------------\") # 가로 이미지 출력\n",
    "        for j in range(grid.cols): # 세로 반복\n",
    "            value = V.get((i,j), 0) # dic.get() : 딕셔너리의 (i,j)를 찾고 없으면 0을 반환\n",
    "            # if value >= 0:\n",
    "            #     print(\"%.2f | \" % value, end=\"\")\n",
    "            # else:\n",
    "            #     print(\"%.2f | \" % value, end=\"\")\n",
    "            print(\"%.2f | \" % value, end=\"\")\n",
    "            \n",
    "        print(\"\")"
   ]
  },
  {
   "cell_type": "code",
   "execution_count": 13,
   "metadata": {
    "ExecuteTime": {
     "end_time": "2021-12-13T20:04:34.639398Z",
     "start_time": "2021-12-13T20:04:34.635297Z"
    }
   },
   "outputs": [],
   "source": [
    "def print_policy(P, grid): # 초기 정책 출력 함수\n",
    "    for i in range(grid.rows):\n",
    "        print(\"-------------------------\")\n",
    "        for j in range(grid.cols):\n",
    "            action = P.get((i,j), ' ')\n",
    "            print(\"  %s  |\" % action, end=\"\")\n",
    "        print(\"\")"
   ]
  },
  {
   "cell_type": "code",
   "execution_count": 14,
   "metadata": {
    "ExecuteTime": {
     "end_time": "2021-12-13T20:06:00.613648Z",
     "start_time": "2021-12-13T20:06:00.588289Z"
    }
   },
   "outputs": [
    {
     "name": "stdout",
     "output_type": "stream",
     "text": [
      "\n",
      "보상: \n",
      "-------------------------\n",
      "0.00 | 0.00 | 0.00 | 1.00 | \n",
      "-------------------------\n",
      "0.00 | 0.00 | 0.00 | -1.00 | \n",
      "-------------------------\n",
      "0.00 | 0.00 | 0.00 | 0.00 | \n",
      "\n",
      "초기 정책: \n",
      "-------------------------\n",
      "  R  |  L  |  U  |     |\n",
      "-------------------------\n",
      "  U  |     |  D  |     |\n",
      "-------------------------\n",
      "  L  |  L  |  U  |  L  |\n",
      "\n",
      "0  번째 반복\n",
      "-------------------------\n",
      "0.77 | 0.46 | 1.00 | 0.00 | \n",
      "-------------------------\n",
      "0.77 | 0.00 | 0.64 | 0.00 | \n",
      "-------------------------\n",
      "0.77 | 0.83 | 0.75 | 0.64 | \n",
      "\n",
      "1  번째 반복\n",
      "-------------------------\n",
      "0.81 | 0.90 | 1.00 | 0.00 | \n",
      "-------------------------\n",
      "0.73 | 0.00 | 0.90 | 0.00 | \n",
      "-------------------------\n",
      "0.69 | 0.75 | 0.81 | 0.67 | \n",
      "\n",
      "2  번째 반복\n",
      "-------------------------\n",
      "0.81 | 0.90 | 1.00 | 0.00 | \n",
      "-------------------------\n",
      "0.73 | 0.00 | 0.90 | 0.00 | \n",
      "-------------------------\n",
      "0.66 | 0.73 | 0.81 | 0.73 | \n",
      "\n",
      "3  번째 반복\n",
      "-------------------------\n",
      "0.81 | 0.90 | 1.00 | 0.00 | \n",
      "-------------------------\n",
      "0.73 | 0.00 | 0.90 | 0.00 | \n",
      "-------------------------\n",
      "0.66 | 0.73 | 0.81 | 0.73 | \n",
      "\n",
      "가치 함수: \n",
      "-------------------------\n",
      "0.81 | 0.90 | 1.00 | 0.00 | \n",
      "-------------------------\n",
      "0.73 | 0.00 | 0.90 | 0.00 | \n",
      "-------------------------\n",
      "0.66 | 0.73 | 0.81 | 0.73 | \n",
      "\n",
      "정책: \n",
      "-------------------------\n",
      "  R  |  R  |  R  |     |\n",
      "-------------------------\n",
      "  U  |     |  U  |     |\n",
      "-------------------------\n",
      "  U  |  R  |  U  |  L  |\n"
     ]
    }
   ],
   "source": [
    "if __name__ == '__main__':\n",
    "    grid = standard_grid() # 그리드 생성 함수: 함수 안에 모든 옵션을 작성함\n",
    "    \n",
    "    print(\"\\n보상: \")\n",
    "    print_values(grid.rewards, grid) # 매개변수로 grid의 보상변수, grid 객체 전달\n",
    "    \n",
    "    policy = {} # 정책 딕셔너리 초기화\n",
    "    for s in grid.actions.keys(): # 행동의 key값 리스트\n",
    "        policy[s] = np.random.choice(ACTIONS) # 4가지 행동 중 랜덤 1개 선택\n",
    "        \n",
    "    print(\"\\n초기 정책: \")\n",
    "    print_policy(policy, grid) # 매개변수로 랜덤한 행동 정책, grid 객체 전달\n",
    "    \n",
    "    V = {} # 가치 딕셔너리 초기화\n",
    "    states = grid.all_states()\n",
    "    for s in states:\n",
    "        if s in grid.actions:\n",
    "            V[s] = np.random.random()\n",
    "        else:\n",
    "            V[s] = 0\n",
    "            \n",
    "    i = 0\n",
    "    while True:\n",
    "        maxChange = 0\n",
    "        for s in states:\n",
    "            oldValue = V[s]\n",
    "            \n",
    "            if s in policy:\n",
    "                newValue = float('-inf')\n",
    "                for a in ACTIONS:\n",
    "                    grid.set_state(s)\n",
    "                    r = grid.move(a)\n",
    "                    v = r + GAMMA * V[grid.current_state()]\n",
    "                    if v > newValue:\n",
    "                        newValue = v\n",
    "                V[s] = newValue\n",
    "                maxChange = max(maxChange, np.abs(oldValue - V[s]))\n",
    "        print(\"\\n%i  번째 반복\" % i, end=\"\\n\")\n",
    "        print_values(V, grid)\n",
    "        i += 1\n",
    "        \n",
    "        if maxChange < DELTA_THRESHOLD:\n",
    "            break\n",
    "    \n",
    "    for s in policy.keys():\n",
    "        bestAction = None\n",
    "        bestValue = float('-inf')\n",
    "        for a in ACTIONS:\n",
    "            grid.set_state(s)\n",
    "            r = grid.move(a)\n",
    "            v = r + GAMMA * V[grid.current_state()]\n",
    "            if v > bestValue:\n",
    "                bestValue = v\n",
    "                bestAction = a\n",
    "        policy[s] = bestAction\n",
    "        \n",
    "    print(\"\\n가치 함수: \")\n",
    "    print_values(V, grid)\n",
    "    \n",
    "    print(\"\\n정책: \")\n",
    "    print_policy(policy, grid)"
   ]
  }
 ],
 "metadata": {
  "hide_input": false,
  "kernelspec": {
   "display_name": "Python 3",
   "language": "python",
   "name": "python3"
  },
  "language_info": {
   "codemirror_mode": {
    "name": "ipython",
    "version": 3
   },
   "file_extension": ".py",
   "mimetype": "text/x-python",
   "name": "python",
   "nbconvert_exporter": "python",
   "pygments_lexer": "ipython3",
   "version": "3.9.9"
  },
  "varInspector": {
   "cols": {
    "lenName": 16,
    "lenType": 16,
    "lenVar": 40
   },
   "kernels_config": {
    "python": {
     "delete_cmd_postfix": "",
     "delete_cmd_prefix": "del ",
     "library": "var_list.py",
     "varRefreshCmd": "print(var_dic_list())"
    },
    "r": {
     "delete_cmd_postfix": ") ",
     "delete_cmd_prefix": "rm(",
     "library": "var_list.r",
     "varRefreshCmd": "cat(var_dic_list()) "
    }
   },
   "types_to_exclude": [
    "module",
    "function",
    "builtin_function_or_method",
    "instance",
    "_Feature"
   ],
   "window_display": false
  }
 },
 "nbformat": 4,
 "nbformat_minor": 2
}
